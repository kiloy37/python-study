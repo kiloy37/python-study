{
 "cells": [
  {
   "cell_type": "markdown",
   "id": "8fb5991c",
   "metadata": {},
   "source": [
    "#파이썬 공부"
   ]
  },
  {
   "cell_type": "code",
   "execution_count": 1,
   "id": "519bf3e7",
   "metadata": {},
   "outputs": [
    {
     "name": "stdout",
     "output_type": "stream",
     "text": [
      "todo version:  2.0.2\n",
      "todo title:  📋 TODO\n",
      "todo data file:  tasks.pkl\n",
      "--------------------\n",
      "Loaded tasks: ['New task', 'New task', 'New task']\n",
      "Updated tasks: ['New task', 'New task', 'New task', '23322']\n"
     ]
    }
   ],
   "source": [
    "import todo\n",
    "from todo.constants import TITLE, DATA_FILE\n",
    "from todo.utils import load_tasks, save_tasks\n",
    "\n",
    "print(\"todo version: \", todo.__version__)\n",
    "print(\"todo title: \", TITLE)\n",
    "print(\"todo data file: \", DATA_FILE)\n",
    "print(\"-\"*20)\n",
    "\n",
    "tasks = load_tasks(DATA_FILE)\n",
    "print(\"Loaded tasks:\", tasks)\n",
    "\n",
    "tasks.append(input(\"Enter a new task: \"))\n",
    "save_tasks(DATA_FILE, tasks)\n",
    "print(\"Updated tasks:\", tasks)"
   ]
  }
 ],
 "metadata": {
  "kernelspec": {
   "display_name": "Python 3",
   "language": "python",
   "name": "python3"
  },
  "language_info": {
   "codemirror_mode": {
    "name": "ipython",
    "version": 3
   },
   "file_extension": ".py",
   "mimetype": "text/x-python",
   "name": "python",
   "nbconvert_exporter": "python",
   "pygments_lexer": "ipython3",
   "version": "3.12.1"
  }
 },
 "nbformat": 4,
 "nbformat_minor": 5
}
